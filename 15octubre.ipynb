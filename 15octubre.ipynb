{
  "nbformat": 4,
  "nbformat_minor": 0,
  "metadata": {
    "colab": {
      "name": "15octubre.ipynb",
      "provenance": [],
      "authorship_tag": "ABX9TyN6xEdDVWEt/X8r8BoG5Woa",
      "include_colab_link": true
    },
    "kernelspec": {
      "name": "python3",
      "display_name": "Python 3"
    }
  },
  "cells": [
    {
      "cell_type": "markdown",
      "metadata": {
        "id": "view-in-github",
        "colab_type": "text"
      },
      "source": [
        "<a href=\"https://colab.research.google.com/github/andreatr09/wkl.1310.2021/blob/master/15octubre.ipynb\" target=\"_parent\"><img src=\"https://colab.research.google.com/assets/colab-badge.svg\" alt=\"Open In Colab\"/></a>"
      ]
    },
    {
      "cell_type": "markdown",
      "metadata": {
        "id": "0hEE4h4EBxOW"
      },
      "source": [
        "# MÓDULOS\n",
        "Son recursos reutilizables que contienen varias funciones que pueden ser importadas a tu código"
      ]
    },
    {
      "cell_type": "code",
      "metadata": {
        "id": "vf5DumYWCD1G",
        "outputId": "46a5d490-615b-4b6b-8a01-ecfac41fd83a",
        "colab": {
          "base_uri": "https://localhost:8080/",
          "height": 52
        }
      },
      "source": [
        "'''\n",
        "import mi_modulo\n",
        "\n",
        "x = mi_modulo.sumar ( 4 , 7 )\n",
        "\n",
        "print( x )\n",
        "\n",
        "print(mi_modulo.multiplicar ( 3 , 5))\n",
        "'''\n"
      ],
      "execution_count": 3,
      "outputs": [
        {
          "output_type": "execute_result",
          "data": {
            "application/vnd.google.colaboratory.intrinsic+json": {
              "type": "string"
            },
            "text/plain": [
              "'\\nimport mi_modulo\\n\\nx = mi_modulo.sumar ( 4 , 7 )\\n\\nprint( x )\\n\\nprint(mi_modulo.multiplicar ( 3 , 5))\\n'"
            ]
          },
          "metadata": {
            "tags": []
          },
          "execution_count": 3
        }
      ]
    },
    {
      "cell_type": "code",
      "metadata": {
        "id": "p6ejXkMAKXZk",
        "outputId": "35916708-2f02-487e-e385-81f3cd40d220",
        "colab": {
          "base_uri": "https://localhost:8080/",
          "height": 52
        }
      },
      "source": [
        "from mi_modulo import sumar, dividir\n",
        " #importar del modulo para no poner mucho el 'mi_modulo'\n",
        "\n",
        "print (sumar (4 , 7))\n",
        "print (dividir (14, 7))"
      ],
      "execution_count": 6,
      "outputs": [
        {
          "output_type": "stream",
          "text": [
            "11\n",
            "2.0\n"
          ],
          "name": "stdout"
        }
      ]
    },
    {
      "cell_type": "code",
      "metadata": {
        "id": "nFhSoukDLPgE",
        "outputId": "d8e6b2c7-8b69-4f42-d144-2a186da9a91c",
        "colab": {
          "base_uri": "https://localhost:8080/",
          "height": 35
        }
      },
      "source": [
        "import mi_modulo as lunita #alias, sobrenombrarla\n",
        "\n",
        "print(lunita.sumar (4 , 6))"
      ],
      "execution_count": 5,
      "outputs": [
        {
          "output_type": "stream",
          "text": [
            "10\n"
          ],
          "name": "stdout"
        }
      ]
    },
    {
      "cell_type": "code",
      "metadata": {
        "id": "APp4htuPN_zM",
        "outputId": "d52aba5a-0f04-43c3-aee0-22107d388b8f",
        "colab": {
          "base_uri": "https://localhost:8080/",
          "height": 35
        }
      },
      "source": [
        "# pip install joke\n",
        "from joke_generator import generate\n",
        "\n",
        "generate ()"
      ],
      "execution_count": 12,
      "outputs": [
        {
          "output_type": "execute_result",
          "data": {
            "application/vnd.google.colaboratory.intrinsic+json": {
              "type": "string"
            },
            "text/plain": [
              "'I saw a documentary on TV last night about how they put ships together.  It was rivetting.'"
            ]
          },
          "metadata": {
            "tags": []
          },
          "execution_count": 12
        }
      ]
    },
    {
      "cell_type": "markdown",
      "metadata": {
        "id": "XuSFOgbWTMPX"
      },
      "source": [
        "# ARCHIVOS\n",
        "- open (str , str)\n",
        "  1. Nombre o ruta del archivo\n",
        "  2. Dos caracteres\n",
        "    - modo de apertura del archivo (r , w , a apped si y solo si el archivo existe, x apped si y solo si el archivo no existe)\n",
        "    - formato de archivo (t o b)"
      ]
    },
    {
      "cell_type": "code",
      "metadata": {
        "id": "nWHIg7pyTxhY",
        "outputId": "384f4c2b-3a95-459e-b91e-763d727e72de",
        "colab": {
          "base_uri": "https://localhost:8080/",
          "height": 121
        }
      },
      "source": [
        "archivo = open (\"saludo.txt\" , \"wt\")\n",
        "archivo.write (\"hola mundo \\n Ola ke ase\")\n",
        "archivo.close\n",
        "\n",
        "arch = open ('frutas.txt', 'rt')\n",
        "print (arch.readline())\n",
        "print (arch.readline())\n",
        "print (arch.readline())\n",
        "print (arch.readline())\n",
        "arch.close()"
      ],
      "execution_count": 18,
      "outputs": [
        {
          "output_type": "stream",
          "text": [
            "manzana, pera, fresa, sandia\n",
            "\n",
            "limon, naranja\n",
            "\n",
            "melon, papaya\n",
            "\n"
          ],
          "name": "stdout"
        }
      ]
    },
    {
      "cell_type": "code",
      "metadata": {
        "id": "glfS4gb5WpRU"
      },
      "source": [
        ""
      ],
      "execution_count": null,
      "outputs": []
    }
  ]
}