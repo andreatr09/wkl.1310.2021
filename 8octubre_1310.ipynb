{
  "nbformat": 4,
  "nbformat_minor": 0,
  "metadata": {
    "colab": {
      "name": "8octubre_1310.ipynb",
      "provenance": [],
      "authorship_tag": "ABX9TyOS3TER/y0Y4objchebuS8H",
      "include_colab_link": true
    },
    "kernelspec": {
      "name": "python3",
      "display_name": "Python 3"
    }
  },
  "cells": [
    {
      "cell_type": "markdown",
      "metadata": {
        "id": "view-in-github",
        "colab_type": "text"
      },
      "source": [
        "<a href=\"https://colab.research.google.com/github/andreatr09/wkl.1310.2021/blob/master/8octubre_1310.ipynb\" target=\"_parent\"><img src=\"https://colab.research.google.com/assets/colab-badge.svg\" alt=\"Open In Colab\"/></a>"
      ]
    },
    {
      "cell_type": "code",
      "metadata": {
        "id": "aje6vwQu8Mdg",
        "outputId": "3a9959a0-42ad-4379-fa77-621c7975e9cb",
        "colab": {
          "base_uri": "https://localhost:8080/",
          "height": 139
        }
      },
      "source": [
        "#listas multi dimensiones\n",
        "monitores =[[\"Samsung\",\"17.3 \\\"\",1024],[\"BenQ\",\"40\\\"\",2048]]\n",
        "procesadores = [[\"Intel\",\"i7\",3.4],[\"AMD\",\"razzer\",3.3],[\"Intel\",\"i3\",3.1]]\n",
        "memorias = [[\"Kingston\", \"8GB\",\"DDR4\"],[\"Kingston\", \"16GB\",\"DDR3\"],[\"ADATA\", \"32GB\",\"DDR4\"]]\n",
        "componentes = [monitores,procesadores,memorias]\n",
        "\n",
        "print(componentes)\n",
        "print(componentes[1])\n",
        "print(componentes[2][1][1])\n",
        "print(int(componentes[0][1][2])*2)\n",
        "print(componentes[1][1][1][1:4:1])\n",
        "print(componentes[2][2][0].lower())\n",
        "\n"
      ],
      "execution_count": 9,
      "outputs": [
        {
          "output_type": "stream",
          "text": [
            "[[['Samsung', '17.3 \"', 1024], ['BenQ', '40\"', 2048]], [['Intel', 'i7', 3.4], ['AMD', 'razzer', 3.3], ['Intel', 'i3', 3.1]], [['Kingston', '8GB', 'DDR4'], ['Kingston', '16GB', 'DDR3'], ['ADATA', '32GB', 'DDR4']]]\n",
            "[['Intel', 'i7', 3.4], ['AMD', 'razzer', 3.3], ['Intel', 'i3', 3.1]]\n",
            "16GB\n",
            "4096\n",
            "azz\n",
            "adata\n"
          ],
          "name": "stdout"
        }
      ]
    },
    {
      "cell_type": "code",
      "metadata": {
        "id": "qJsu08UUHr1K",
        "outputId": "95b9606a-5fd5-4fc8-b33e-ae6ece7e6cc6",
        "colab": {
          "base_uri": "https://localhost:8080/",
          "height": 170
        }
      },
      "source": [
        "#extender listas\n",
        "frutas = [\"Manzana\", \"pera\"]\n",
        "otras_frutas = [\"Cereza\", \"sandia\"]\n",
        "\n",
        "print(frutas + otras_frutas)\n",
        "print(frutas)\n",
        "\n",
        "#operador sobrecargado + sobre listas\n",
        "#frutas= frutas + otras_frutas\n",
        "#print(frutas)\n",
        "\n",
        "#funcion extend()\n",
        "#frutas.extend(otras_frutas)\n",
        "#print(frutas)\n",
        "\n",
        "#frutas.append(otras_frutas)\n",
        "#print(frutas)\n",
        "\n",
        "#copiar listas\n",
        "colores = [\"azul\", \"rojo\", \"violeta\"]\n",
        "otros_colores = colores\n",
        "print(colores)\n",
        "print(otros_colores)\n",
        "otros_colores.append(\"negro\")\n",
        "print(colores)\n",
        "print(otros_colores)\n",
        "\n",
        "una_mas = colores.copy ()\n",
        "print(una_mas)\n",
        "una_mas.append(\"gris\")\n",
        "print(una_mas)\n",
        "\n",
        "#unpacking de listas\n",
        "alumno = [\"Andrea\", \"Tierrablanca\", \"Retiguin\", 20, \"ICO\", 10.0]\n",
        "#nombre = alumno [0]\n",
        "#paterno =alumno [1]\n",
        "#etc...\n",
        "\n",
        "nombre,paterno,materno,edad,carrera,promedio = alumno\n",
        "print(f\"Alumno:{nombre} carrera: {carrera} promedio= {promedio}\")"
      ],
      "execution_count": 30,
      "outputs": [
        {
          "output_type": "stream",
          "text": [
            "['Manzana', 'pera', 'Cereza', 'sandia']\n",
            "['Manzana', 'pera']\n",
            "['azul', 'rojo', 'violeta']\n",
            "['azul', 'rojo', 'violeta']\n",
            "['azul', 'rojo', 'violeta', 'negro']\n",
            "['azul', 'rojo', 'violeta', 'negro']\n",
            "['azul', 'rojo', 'violeta', 'negro']\n",
            "['azul', 'rojo', 'violeta', 'negro', 'gris']\n",
            "Alumno:Andrea carrera: ICO promedio= 10.0\n"
          ],
          "name": "stdout"
        }
      ]
    },
    {
      "cell_type": "markdown",
      "metadata": {
        "id": "8YsbxSTQR5YR"
      },
      "source": [
        "# tuplas\n",
        "- Se declaran con ( )\n",
        "- Selector con [ ]\n",
        "- NO son mutables"
      ]
    },
    {
      "cell_type": "code",
      "metadata": {
        "id": "v47DBOTXSS1Z",
        "outputId": "709775db-1169-4347-d9d3-bc7a10ee1d38",
        "colab": {
          "base_uri": "https://localhost:8080/",
          "height": 68
        }
      },
      "source": [
        "precios = ( 99.9 , 49.9 , 12.45 , 23.3 , 33.44 , 55.66)\n",
        "print (precios [1])\n",
        "#precios[1] = 50.0 NO SE PUEDE EDITAR, son igual que las listas pero no mutan.tuplas\n",
        "print(precios)\n",
        "print(precios[2:4]) #slicing"
      ],
      "execution_count": 35,
      "outputs": [
        {
          "output_type": "stream",
          "text": [
            "49.9\n",
            "(99.9, 49.9, 12.45, 23.3, 33.44, 55.66)\n",
            "(12.45, 23.3)\n"
          ],
          "name": "stdout"
        }
      ]
    },
    {
      "cell_type": "markdown",
      "metadata": {
        "id": "CkEQ-lmETl1l"
      },
      "source": [
        "# Diccionarios\n",
        "- Se declaran con { }\n",
        "- Si son mutables\n",
        "- Conjunto de pares llave: valor\n",
        "- Equivalente a los Objetos JSON de JavaScript"
      ]
    },
    {
      "cell_type": "code",
      "metadata": {
        "id": "FgPSpIZDT54P",
        "outputId": "12433188-9958-4e98-b609-aa0649fce313",
        "colab": {
          "base_uri": "https://localhost:8080/",
          "height": 139
        }
      },
      "source": [
        "cliente = {    }\n",
        "print(cliente)\n",
        "alumno = {  \"num_cta\"  :314005898  }\n",
        "print(alumno)\n",
        "\n",
        "alumno = {\n",
        "          \"num_cta\"  : 314005898 , \n",
        "          \"carrera\" : \"ICO\" ,\n",
        "          \"promedio\" : 9.8 ,\n",
        "          \"materias\" : [\"EDO\", \"CyP\", \"Emprendimiento\"],\n",
        "          \"direccion\" : {\n",
        "                        \"calle\" : \"rancho seco\",\n",
        "                        \"numero\" : 23 ,\n",
        "                        \"delegacion\" : \"Neza\" ,\n",
        "                        \"estado\" : {\n",
        "                                    \"id\" : 15 ,\n",
        "                                    \"nombre\" : \"Estado de Mexico\" ,\n",
        "                                    \"nombre_corto\" : \"EdoMex\",\n",
        "                                    },\n",
        "                        \"CP\" : 57170 \n",
        "                        }\n",
        "          }\n",
        "\n",
        "\n",
        "print(alumno)\n",
        "print(alumno[\"materias\"])\n",
        "print(alumno[\"promedio\"])\n",
        "print(alumno[\"direccion\"][\"estado\"][\"nombre_corto\"])"
      ],
      "execution_count": 42,
      "outputs": [
        {
          "output_type": "stream",
          "text": [
            "{}\n",
            "{'num_cta': 314005898}\n",
            "{'num_cta': 314005898, 'carrera': 'ICO', 'promedio': 9.8, 'materias': ['EDO', 'CyP', 'Emprendimiento'], 'direccion': {'calle': 'rancho seco', 'numero': 23, 'delegacion': 'Neza', 'estado': {'id': 15, 'nombre': 'Estado de Mexico', 'nombre_corto': 'EdoMex'}, 'CP': 57170}}\n",
            "['EDO', 'CyP', 'Emprendimiento']\n",
            "9.8\n",
            "EdoMex\n"
          ],
          "name": "stdout"
        }
      ]
    }
  ]
}