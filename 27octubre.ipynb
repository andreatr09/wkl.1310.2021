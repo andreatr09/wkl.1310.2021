{
  "nbformat": 4,
  "nbformat_minor": 0,
  "metadata": {
    "colab": {
      "name": "27octubre.ipynb",
      "provenance": [],
      "authorship_tag": "ABX9TyNuhMa+0L+dqgfN8YzuH5BD",
      "include_colab_link": true
    },
    "kernelspec": {
      "name": "python3",
      "display_name": "Python 3"
    }
  },
  "cells": [
    {
      "cell_type": "markdown",
      "metadata": {
        "id": "view-in-github",
        "colab_type": "text"
      },
      "source": [
        "<a href=\"https://colab.research.google.com/github/andreatr09/wkl.1310.2021/blob/master/27octubre.ipynb\" target=\"_parent\"><img src=\"https://colab.research.google.com/assets/colab-badge.svg\" alt=\"Open In Colab\"/></a>"
      ]
    },
    {
      "cell_type": "code",
      "metadata": {
        "id": "2FucBR-PBb7r",
        "outputId": "393f1f75-7a06-4672-8ac1-05c0021fae18",
        "colab": {
          "base_uri": "https://localhost:8080/",
          "height": 69
        }
      },
      "source": [
        "class Computadora:\n",
        "  def __init__( self , m , p):\n",
        "    self.__marca = m\n",
        "    self.__procesador = p\n",
        "  def to_string( self ):\n",
        "    return \"Marca:\"+self.__marca+\" Procesador:\"+self.__procesador\n",
        "  def set_marca ( self  , m ):\n",
        "    self.__marca = m \n",
        "  def get_marca ( self ):\n",
        "    return self.__marca \n",
        "  def set_procesador ( self , p ):\n",
        "    self.__procesador = p\n",
        "  def get_procesador ( self ):\n",
        "    return self.__procesador\n",
        "\n",
        "mi_pc = Computadora(\"Toshiba\",\"Intel i7\")\n",
        "print(mi_pc.to_string())\n",
        "mi_pc.__marca= \"HP \" #intentando cambiar la privacidad\n",
        "mi_pc.set_marca ( \"HP co.\" )\n",
        "print (mi_pc.to_string())\n",
        "#print (mi_pc.__procesador)\n",
        "print (  mi_pc.get_procesador() )\n"
      ],
      "execution_count": 5,
      "outputs": [
        {
          "output_type": "stream",
          "text": [
            "Marca:Toshiba Procesador:Intel i7\n",
            "Marca:HP co. Procesador:Intel i7\n",
            "Intel i7\n"
          ],
          "name": "stdout"
        }
      ]
    },
    {
      "cell_type": "markdown",
      "metadata": {
        "id": "B4qKYWzDEK4Q"
      },
      "source": [
        "# ENCAPSULAMIENTO EN PYTON\n",
        "## Tradicional tipo Java\n",
        "  void setAtributo ( val )\n",
        "\n",
        "  tipo getAtributo (  )\n",
        "## Estilo pyton 3\n",
        "UTILIZANDO DECORADORES\n",
        "- @property\n",
        "-@atributo.setter"
      ]
    },
    {
      "cell_type": "code",
      "metadata": {
        "id": "0_Xnl0XhH5fU",
        "outputId": "2be84958-372f-4986-db0b-1bb18eb89450",
        "colab": {
          "base_uri": "https://localhost:8080/",
          "height": 104
        }
      },
      "source": [
        "class Computadora:\n",
        "  def  __init__ ( self , m , p ):\n",
        "    self.marca = m           #NO se declara, manda a llamar el decorador @property\n",
        "    self.procesador = p     #idem\n",
        "\n",
        "  @property  #se declara como atributo privado y funciona como metodo get. LO DECLARA\n",
        "  def marca ( self ):\n",
        "    return self.__marca\n",
        "\n",
        "  @marca.setter #referebcia al atributo que se hizo privado, metodo set en donde le pones un valor\n",
        "  def marca ( self , m ):\n",
        "    print ( \"En el setter de MARCA\" )\n",
        "    self.__marca = m\n",
        "\n",
        "  @property\n",
        "  def procesador ( self ):\n",
        "    return self.__procesador\n",
        "\n",
        "  @procesador.setter\n",
        "  def procesador ( self , p ):\n",
        "    print ( \"En el metodo set de PROCESADOR\" )\n",
        "    self.__procesador = p\n",
        "\n",
        "  def to_string ( self ):\n",
        "    return \"Marca: \" + self.marca + \" Procesador: \" + self.procesador\n",
        "\n",
        "mi_pc2 = Computadora ( \"MacBook Pro\" , \"Intel i7\" )\n",
        "print ( mi_pc2.to_string() )\n",
        "mi_pc2.marca = \"ASUS\"\n",
        "print ( mi_pc2.to_string() )"
      ],
      "execution_count": 10,
      "outputs": [
        {
          "output_type": "stream",
          "text": [
            "En el setter de MARCA\n",
            "En el metodo set de PROCESADOR\n",
            "Marca: MacBook Pro Procesador: Intel i7\n",
            "En el setter de MARCA\n",
            "Marca: ASUS Procesador: Intel i7\n"
          ],
          "name": "stdout"
        }
      ]
    },
    {
      "cell_type": "code",
      "metadata": {
        "id": "3DP166YJQjTJ",
        "outputId": "1df1c6a5-a896-4051-99cf-1b528a273481",
        "colab": {
          "base_uri": "https://localhost:8080/",
          "height": 86
        }
      },
      "source": [
        "#HERENCIA en Pyton, pasando la clase base a la declaracion\n",
        "class ServidorEmpresarial ( Computadora ):#tipo de computadora\n",
        "  def __init__ ( self ):\n",
        "    print ( \"Hola servidor\" )\n",
        "  \n",
        "server = ServidorEmpresarial ()\n",
        "server.marca = \"Sun Micro System\"\n",
        "server.procesador = \"Intel i7\"\n",
        "print (server.to_string())"
      ],
      "execution_count": 11,
      "outputs": [
        {
          "output_type": "stream",
          "text": [
            "Hola servidor\n",
            "En el setter de MARCA\n",
            "En el metodo set de PROCESADOR\n",
            "Marca: Sun Micro System Procesador: Intel i7\n"
          ],
          "name": "stdout"
        }
      ]
    }
  ]
}