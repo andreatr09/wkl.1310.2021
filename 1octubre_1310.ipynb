{
  "nbformat": 4,
  "nbformat_minor": 0,
  "metadata": {
    "colab": {
      "name": "1octubre_1310.ipynb",
      "provenance": [],
      "authorship_tag": "ABX9TyNvqBSUNsOfzAqaM1hwxqwk",
      "include_colab_link": true
    },
    "kernelspec": {
      "name": "python3",
      "display_name": "Python 3"
    }
  },
  "cells": [
    {
      "cell_type": "markdown",
      "metadata": {
        "id": "view-in-github",
        "colab_type": "text"
      },
      "source": [
        "<a href=\"https://colab.research.google.com/github/andreatr09/wkl.1310.2021/blob/master/1octubre_1310.ipynb\" target=\"_parent\"><img src=\"https://colab.research.google.com/assets/colab-badge.svg\" alt=\"Open In Colab\"/></a>"
      ]
    },
    {
      "cell_type": "markdown",
      "metadata": {
        "id": "aTYZzFlZ7sMU"
      },
      "source": [
        "# Intro Python 3\n",
        "## Variables\n",
        "tipo dinámico\n",
        "escuela - \"FES Aragón\""
      ]
    },
    {
      "cell_type": "code",
      "metadata": {
        "id": "u3BEramt7UZL",
        "outputId": "6d4da249-ace5-4e93-d2a1-4899546fe3d0",
        "colab": {
          "base_uri": "https://localhost:8080/",
          "height": 187
        }
      },
      "source": [
        "escuela = \"FES Aragon\"\n",
        "print (escuela)\n",
        "print (\"--------\")\n",
        "edad = 13\n",
        "estatura = 1.67\n",
        "fumador = True\n",
        "frase = \"\"\"\n",
        "Esta es\n",
        "una\n",
        "frase\n",
        "de multiples lineas\n",
        "y tambien \n",
        "es un tipo de dato\n",
        "\"\"\"\n",
        "\n",
        "print (frase)\n",
        "nombre = 'jose'\n",
        "nombre_completo = \"jose sosa cardena\"\n",
        "\n"
      ],
      "execution_count": 5,
      "outputs": [
        {
          "output_type": "stream",
          "text": [
            "FES Aragon\n",
            "--------\n",
            "\n",
            "Esta es\n",
            "una\n",
            "frase\n",
            "de multiples lineas\n",
            "y tambien \n",
            "es un tipo de dato\n",
            "\n"
          ],
          "name": "stdout"
        }
      ]
    },
    {
      "cell_type": "markdown",
      "metadata": {
        "id": "TwsjFpYD91Bc"
      },
      "source": [
        "# Print\n",
        "con comas ,\n",
        "\n",
        "con signo mas +\n",
        "\n",
        "con format ()\n",
        "\n",
        "con el operador f\"\""
      ]
    },
    {
      "cell_type": "code",
      "metadata": {
        "id": "Nnsv4onX-B5Y",
        "outputId": "d0aebe12-d0d9-4528-b438-0408bff3995a",
        "colab": {
          "base_uri": "https://localhost:8080/",
          "height": 34
        }
      },
      "source": [
        "# , da un espacio\n",
        "print (nombre, edad)"
      ],
      "execution_count": 6,
      "outputs": [
        {
          "output_type": "stream",
          "text": [
            "jose 13\n"
          ],
          "name": "stdout"
        }
      ]
    },
    {
      "cell_type": "code",
      "metadata": {
        "id": "vUoIjU5j_BKJ",
        "outputId": "67aa5e44-1072-4aa9-ba08-86fe521e61c6",
        "colab": {
          "base_uri": "https://localhost:8080/",
          "height": 51
        }
      },
      "source": [
        "# + concatena str cadena no pone espacio\n",
        "print (nombre + str(edad))\n",
        "print (nombre+nombre_completo)"
      ],
      "execution_count": 8,
      "outputs": [
        {
          "output_type": "stream",
          "text": [
            "jose13\n",
            "josejose sosa cardena\n"
          ],
          "name": "stdout"
        }
      ]
    },
    {
      "cell_type": "code",
      "metadata": {
        "id": "EYC0ifJLAQ8z",
        "outputId": "1ae5fcca-aba9-4163-d2da-edac722a6283",
        "colab": {
          "base_uri": "https://localhost:8080/",
          "height": 68
        }
      },
      "source": [
        "# con formato --> Su nombre es Jose y su edad es de 13 años\n",
        "print (\"Su nombre es\",nombre,\"y su edad es de\",edad,\"años.\")\n",
        "print (\"Su nombre es {0} y su edad es de {1} años.\".format(nombre,edad))\n",
        "print (\"Su nombre es {1} y su edad es de {0} años.\".format(nombre,edad))"
      ],
      "execution_count": 13,
      "outputs": [
        {
          "output_type": "stream",
          "text": [
            "Su nombre es jose y su edad es de 13 años.\n",
            "Su nombre es jose y su edad es de 13 años.\n",
            "Su nombre es 13 y su edad es de jose años.\n"
          ],
          "name": "stdout"
        }
      ]
    },
    {
      "cell_type": "code",
      "metadata": {
        "id": "qklYL85cB0QR",
        "outputId": "a9e93f34-535e-4510-8e5d-f5c3b00f93e0",
        "colab": {
          "base_uri": "https://localhost:8080/",
          "height": 34
        }
      },
      "source": [
        "# con formato con el operador f\"\n",
        "print (f\"Su nombre es {nombre} y su edad es de {edad} años.\")"
      ],
      "execution_count": 14,
      "outputs": [
        {
          "output_type": "stream",
          "text": [
            "Su nombre es jose y su edad es de 13 años.\n"
          ],
          "name": "stdout"
        }
      ]
    },
    {
      "cell_type": "markdown",
      "metadata": {
        "id": "zzAfmMYqCgoh"
      },
      "source": [
        "# Caracter de escape\n",
        "\\n salto de linea\n",
        "\n",
        "\\t tabulador \n",
        "\n",
        "\\a beep\n",
        "\n",
        "\\\"imprimir comilla doble\n",
        "\n",
        "\\' imprimir comilla simple"
      ]
    },
    {
      "cell_type": "code",
      "metadata": {
        "id": "NwbJ554xDJQ7",
        "outputId": "a49c7fe5-2603-4e65-b678-70bb193012a7",
        "colab": {
          "base_uri": "https://localhost:8080/",
          "height": 51
        }
      },
      "source": [
        "\"\"\"\n",
        "Esto es\n",
        "un comentario \n",
        "de multiple linea\n",
        "\"\"\"\n",
        "print (f\"\\tMi nombre es \\n\\t\\t {nombre}\")"
      ],
      "execution_count": 15,
      "outputs": [
        {
          "output_type": "stream",
          "text": [
            "\tMi nombre es \n",
            "\t\t jose\n"
          ],
          "name": "stdout"
        }
      ]
    },
    {
      "cell_type": "markdown",
      "metadata": {
        "id": "oAxw7RIiDxaA"
      },
      "source": [
        "# Ayuda de tipos de dato en python\n",
        "dir() --> tipo de dato\n",
        "\n",
        "help() --> mas detalle"
      ]
    },
    {
      "cell_type": "code",
      "metadata": {
        "id": "MJIA0bF9EOhh"
      },
      "source": [
        "#str, int, float, bool ... list, dict, set\n",
        "help (str)"
      ],
      "execution_count": null,
      "outputs": []
    },
    {
      "cell_type": "code",
      "metadata": {
        "id": "dz11Wz2QFQT3",
        "outputId": "e5fa5695-2e03-4f78-96a2-59f588c71f33",
        "colab": {
          "base_uri": "https://localhost:8080/",
          "height": 51
        }
      },
      "source": [
        "print (nombre_completo.capitalize())\n",
        "print (nombre_completo.upper() , end=\"----\")\n",
        "print (nombre_completo.title())"
      ],
      "execution_count": 20,
      "outputs": [
        {
          "output_type": "stream",
          "text": [
            "Jose sosa cardena\n",
            "JOSE SOSA CARDENA----Jose Sosa Cardena\n"
          ],
          "name": "stdout"
        }
      ]
    },
    {
      "cell_type": "code",
      "metadata": {
        "id": "f95k0sPGGCDe"
      },
      "source": [
        "help (print)"
      ],
      "execution_count": null,
      "outputs": []
    },
    {
      "cell_type": "markdown",
      "metadata": {
        "id": "RshruieyGpAE"
      },
      "source": [
        "# clase String\n",
        "Es manejada como un arreglo (c o java) o lista (python)\n",
        "\n",
        "telefono = \"Huawei mate 30 pro\"\n",
        "\n",
        "print (telefono [0] )"
      ]
    },
    {
      "cell_type": "code",
      "metadata": {
        "id": "7N3ZTZt2H8C0",
        "outputId": "b3fdd1f0-2e3e-4859-9034-cd4624d39d84",
        "colab": {
          "base_uri": "https://localhost:8080/",
          "height": 34
        }
      },
      "source": [
        "telefono = \"Huawei mate 30 pro\"\n",
        "print (telefono [5] )"
      ],
      "execution_count": 22,
      "outputs": [
        {
          "output_type": "stream",
          "text": [
            "i\n"
          ],
          "name": "stdout"
        }
      ]
    },
    {
      "cell_type": "markdown",
      "metadata": {
        "id": "SYyqSaoAIOhE"
      },
      "source": [
        "# Slicing (rebanado)\n",
        "[ini : stop : incremento]\n",
        "\n",
        "nota: el stop no se incluye, termina en el valor anterior al stop"
      ]
    },
    {
      "cell_type": "code",
      "metadata": {
        "id": "O9HQ0hkLIiCI",
        "outputId": "dccbc47e-fec6-4409-ce2a-e01123fd3b04",
        "colab": {
          "base_uri": "https://localhost:8080/",
          "height": 102
        }
      },
      "source": [
        "print (telefono [7:11:1])\n",
        "# el inicio y el incremento son opcionales\n",
        "print (telefono [:11:])\n",
        "#el valor por defecto de stop es len(str)\n",
        "print (telefono [::])\n",
        "#incremento negativo\n",
        "print (telefono [::-1])\n",
        "#slicing negativo\n",
        "ini = -3\n",
        "inc = 1\n",
        "print (telefono [-3::1])"
      ],
      "execution_count": 30,
      "outputs": [
        {
          "output_type": "stream",
          "text": [
            "mate\n",
            "Huawei mate\n",
            "Huawei mate 30 pro\n",
            "orp 03 etam iewauH\n",
            "pro\n"
          ],
          "name": "stdout"
        }
      ]
    },
    {
      "cell_type": "markdown",
      "metadata": {
        "id": "dtK0finONMsP"
      },
      "source": [
        "# Funciones de string (str)\n",
        "Existen metodos muy utiles en esta clase, dentro de las cuales se encuentran:"
      ]
    },
    {
      "cell_type": "code",
      "metadata": {
        "id": "NsJu3FSrNaLS",
        "outputId": "6185bd4f-5fd4-4fb3-a31b-967e3d7f825b",
        "colab": {
          "base_uri": "https://localhost:8080/",
          "height": 357
        }
      },
      "source": [
        "facultad = \"    facultad de estudios superiores aragon      \\n\"\n",
        "print (facultad)\n",
        "print (facultad.count('u') ) #cuenta el n umero de elementos de la cadena\n",
        "print (facultad.find('s'))#da la posicion\n",
        "print (facultad.strip()) #remueve los espacios en blanco, quita saltos de linea\n",
        "tamaño = (len (facultad))\n",
        "print (len (facultad)) #len regresa la longitud del string\n",
        "print (f\"tamaño de la cadena es {tamaño} caracteres\")\n",
        "\n",
        "#split dividir, cortar cadena en base a un caracter en especial\n",
        "print(facultad)\n",
        "print (facultad.split(\"t\"))\n",
        "print (facultad.strip().split(\" \"))\n",
        "\n",
        "#copiar cadenas\n",
        "otra_cadena = facultad\n",
        "print (otra_cadena)\n",
        "otra_cadena =\"FES Aragon\"\n",
        "print (facultad)\n",
        "print (otra_cadena)\n",
        "\n",
        "#copiar listas\n",
        "colores = (\"rojo\", \"morado\")\n",
        "otra = colores\n",
        "print (colores)\n",
        "print (otra)\n",
        "\n",
        "print (colores)\n",
        "print (otra)"
      ],
      "execution_count": 50,
      "outputs": [
        {
          "output_type": "stream",
          "text": [
            "    facultad de estudios superiores aragon      \n",
            "\n",
            "3\n",
            "17\n",
            "facultad de estudios superiores aragon\n",
            "49\n",
            "tamaño de la cadena es 49 caracteres\n",
            "    facultad de estudios superiores aragon      \n",
            "\n",
            "['    facul', 'ad de es', 'udios superiores aragon      \\n']\n",
            "['facultad', 'de', 'estudios', 'superiores', 'aragon']\n",
            "    facultad de estudios superiores aragon      \n",
            "\n",
            "    facultad de estudios superiores aragon      \n",
            "\n",
            "FES Aragon\n",
            "('rojo', 'morado')\n",
            "('rojo', 'morado')\n",
            "('rojo', 'morado')\n",
            "('rojo', 'morado')\n"
          ],
          "name": "stdout"
        }
      ]
    }
  ]
}