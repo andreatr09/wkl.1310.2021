{
  "nbformat": 4,
  "nbformat_minor": 0,
  "metadata": {
    "colab": {
      "name": "Untitled1.ipynb",
      "provenance": [],
      "authorship_tag": "ABX9TyMztYLobQoTdEkYh3LZNwZY",
      "include_colab_link": true
    },
    "kernelspec": {
      "name": "python3",
      "display_name": "Python 3"
    }
  },
  "cells": [
    {
      "cell_type": "markdown",
      "metadata": {
        "id": "view-in-github",
        "colab_type": "text"
      },
      "source": [
        "<a href=\"https://colab.research.google.com/github/andreatr09/wkl.1310.2021/blob/master/29Septiembre.ipynb\" target=\"_parent\"><img src=\"https://colab.research.google.com/assets/colab-badge.svg\" alt=\"Open In Colab\"/></a>"
      ]
    },
    {
      "cell_type": "code",
      "metadata": {
        "id": "vfnglJtuFOdk"
      },
      "source": [
        "edad = 10"
      ],
      "execution_count": 2,
      "outputs": []
    },
    {
      "cell_type": "code",
      "metadata": {
        "id": "b78CjFqNFc-R",
        "outputId": "50276aec-0d5a-444f-a564-26819b19ccd4",
        "colab": {
          "base_uri": "https://localhost:8080/",
          "height": 51
        }
      },
      "source": [
        "print (edad)\n",
        "colores = (\"rojo\", \"azul\", \"verde\", \"morado\", \"violeta\")\n",
        "print (colores)"
      ],
      "execution_count": 3,
      "outputs": [
        {
          "output_type": "stream",
          "text": [
            "10\n",
            "('rojo', 'azul', 'verde', 'morado', 'violeta')\n"
          ],
          "name": "stdout"
        }
      ]
    },
    {
      "cell_type": "code",
      "metadata": {
        "id": "4Kis4kNFF3RK",
        "outputId": "e9fee2d1-c7af-4a6a-fc88-fccfa5466fa9",
        "colab": {
          "base_uri": "https://localhost:8080/",
          "height": 34
        }
      },
      "source": [
        "print (colores [3])"
      ],
      "execution_count": 4,
      "outputs": [
        {
          "output_type": "stream",
          "text": [
            "morado\n"
          ],
          "name": "stdout"
        }
      ]
    },
    {
      "cell_type": "code",
      "metadata": {
        "id": "_eKL8pW8F-JD"
      },
      "source": [
        "nombre = \"Alberto\""
      ],
      "execution_count": 6,
      "outputs": []
    },
    {
      "cell_type": "code",
      "metadata": {
        "id": "yHlRgwKgGDkS",
        "outputId": "e78571ae-3dbf-4d51-c4a8-b0b90a662cdb",
        "colab": {
          "base_uri": "https://localhost:8080/",
          "height": 68
        }
      },
      "source": [
        "print (nombre)\n",
        "print (nombre [0])\n",
        "print (nombre [0:3:1])"
      ],
      "execution_count": 7,
      "outputs": [
        {
          "output_type": "stream",
          "text": [
            "Alberto\n",
            "A\n",
            "Alb\n"
          ],
          "name": "stdout"
        }
      ]
    },
    {
      "cell_type": "code",
      "metadata": {
        "id": "ArNdLYG1GkgX",
        "outputId": "8a31c930-711c-4d2d-8b05-1478dc791ba5",
        "colab": {
          "base_uri": "https://localhost:8080/",
          "height": 34
        }
      },
      "source": [
        "print (colores [3])"
      ],
      "execution_count": 8,
      "outputs": [
        {
          "output_type": "stream",
          "text": [
            "morado\n"
          ],
          "name": "stdout"
        }
      ]
    },
    {
      "cell_type": "code",
      "metadata": {
        "id": "zA6U91SuGtWg",
        "outputId": "77fb98a5-de12-410c-cc27-bfd8f2ea5242",
        "colab": {
          "base_uri": "https://localhost:8080/",
          "height": 85
        }
      },
      "source": [
        "for i in range (0,4,1):\n",
        "  print (colores [i])"
      ],
      "execution_count": 10,
      "outputs": [
        {
          "output_type": "stream",
          "text": [
            "rojo\n",
            "azul\n",
            "verde\n",
            "morado\n"
          ],
          "name": "stdout"
        }
      ]
    },
    {
      "cell_type": "markdown",
      "metadata": {
        "id": "PTFBudEbHJho"
      },
      "source": [
        "# **For en pyton**\n",
        "j in ramge (int , tope, incremento) in"
      ]
    },
    {
      "cell_type": "code",
      "metadata": {
        "id": "MImK8pKHHgCY",
        "outputId": "219b1f46-c6d6-4825-ac42-ff577f657d89",
        "colab": {
          "base_uri": "https://localhost:8080/",
          "height": 102
        }
      },
      "source": [
        "for color in colores:\n",
        "  print (color)"
      ],
      "execution_count": 11,
      "outputs": [
        {
          "output_type": "stream",
          "text": [
            "rojo\n",
            "azul\n",
            "verde\n",
            "morado\n",
            "violeta\n"
          ],
          "name": "stdout"
        }
      ]
    },
    {
      "cell_type": "code",
      "metadata": {
        "id": "A-WGi03RHofi",
        "outputId": "843b9861-f79a-4495-a1bd-2f2adea460d2",
        "colab": {
          "base_uri": "https://localhost:8080/",
          "height": 136
        }
      },
      "source": [
        "for m in range (0,len(nombre),1):\n",
        "  print (nombre[m])"
      ],
      "execution_count": 15,
      "outputs": [
        {
          "output_type": "stream",
          "text": [
            "A\n",
            "l\n",
            "b\n",
            "e\n",
            "r\n",
            "t\n",
            "o\n"
          ],
          "name": "stdout"
        }
      ]
    },
    {
      "cell_type": "code",
      "metadata": {
        "id": "i8ddzdMIIhq0",
        "outputId": "859a0b33-eddc-4653-ab72-f2e19bf0d7dc",
        "colab": {
          "base_uri": "https://localhost:8080/",
          "height": 136
        }
      },
      "source": [
        "for letra in nombre:\n",
        "  print (letra)"
      ],
      "execution_count": 16,
      "outputs": [
        {
          "output_type": "stream",
          "text": [
            "A\n",
            "l\n",
            "b\n",
            "e\n",
            "r\n",
            "t\n",
            "o\n"
          ],
          "name": "stdout"
        }
      ]
    },
    {
      "cell_type": "markdown",
      "metadata": {
        "id": "B-wkjF3pJf0b"
      },
      "source": [
        "# ¿Qué es markdown?\n",
        "Markdown es un lenguaje de maracado para documentar codigo  . El objetivo es simplificar la escritura del lenguaje HTML\n",
        "\n",
        "---\n",
        "\n",
        "**negritas**\n",
        "\n",
        "***\n",
        "\n",
        "***\n",
        "\n",
        "Mas informacion en : [GitHub Cheatsear Markdown](https://github.com/adam-p/markdown-here/wiki/Markdown-Cheatsheet) \n",
        "\n",
        "---\n",
        "\n",
        "![texto alterno](https://i.pinimg.com/564x/c6/1e/f2/c61ef2fb0c15ca0ab100115dd14d0bed.jpg)"
      ]
    }
  ]
}