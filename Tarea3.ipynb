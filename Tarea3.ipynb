{
  "nbformat": 4,
  "nbformat_minor": 0,
  "metadata": {
    "colab": {
      "name": "Tarea3.ipynb",
      "provenance": [],
      "authorship_tag": "ABX9TyPtHBZe1RZpp64d6+HYUEdz",
      "include_colab_link": true
    },
    "kernelspec": {
      "name": "python3",
      "display_name": "Python 3"
    }
  },
  "cells": [
    {
      "cell_type": "markdown",
      "metadata": {
        "id": "view-in-github",
        "colab_type": "text"
      },
      "source": [
        "<a href=\"https://colab.research.google.com/github/andreatr09/wkl.1310.2021/blob/master/Tarea3.ipynb\" target=\"_parent\"><img src=\"https://colab.research.google.com/assets/colab-badge.svg\" alt=\"Open In Colab\"/></a>"
      ]
    },
    {
      "cell_type": "code",
      "metadata": {
        "id": "Kbt3gtqO0VT9",
        "outputId": "e8b09f8f-f61b-4597-a414-698dafd8e2aa",
        "colab": {
          "base_uri": "https://localhost:8080/",
          "height": 35
        }
      },
      "source": [
        "class Persona:\n",
        "  def __init__ ( self  , no , ed , es):  \n",
        "    self.__nombre = no\n",
        "    self.__edad = ed\n",
        "    self.__estatura = es\n",
        "  \n",
        "  def to_string ( self ): \n",
        "    return \"Nombre: \" + self.__nombre +  \"  Edad: \" + self.__edad +  \"  Estatura: \" + self.__estatura\n",
        "\n",
        "mi_persona = Persona( \"Luna\",  \"20\" , \"1.60\" ) \n",
        "print(mi_persona.to_string())"
      ],
      "execution_count": 15,
      "outputs": [
        {
          "output_type": "stream",
          "text": [
            "Nombre: Luna  Edad: 20  Estatura: 1.60\n"
          ],
          "name": "stdout"
        }
      ]
    },
    {
      "cell_type": "code",
      "metadata": {
        "id": "WJCoB14W32sX",
        "outputId": "ffc84eb9-c96c-4643-f1d1-14d0261882b7",
        "colab": {
          "base_uri": "https://localhost:8080/",
          "height": 35
        }
      },
      "source": [
        "class Celular:\n",
        "  def __init__ ( self  , ma , mo , em):  \n",
        "    self.__marca = ma\n",
        "    self.__modelo = mo\n",
        "    self.__espacio_de_memoria = em\n",
        "  \n",
        "  def to_string ( self ): \n",
        "    return \"Marca: \" + self.__marca +  \"  Modelo: \" + self.__modelo +  \"  Espacio de memoria: \" + self.__espacio_de_memoria\n",
        "\n",
        "mi_cel = Celular( \"Huawei\",  \"Y9\" , \"64GB\" ) \n",
        "print(mi_cel.to_string())"
      ],
      "execution_count": 11,
      "outputs": [
        {
          "output_type": "stream",
          "text": [
            "Marca: Huawei  Modelo: Y9  Espacio de memoria: 64GB\n"
          ],
          "name": "stdout"
        }
      ]
    }
  ]
}