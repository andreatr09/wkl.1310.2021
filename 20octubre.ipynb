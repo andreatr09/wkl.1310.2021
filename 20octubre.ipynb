{
  "nbformat": 4,
  "nbformat_minor": 0,
  "metadata": {
    "colab": {
      "name": "20octubre.ipynb",
      "provenance": [],
      "authorship_tag": "ABX9TyNEDWjWv+JBi6/qz7bT84fJ",
      "include_colab_link": true
    },
    "kernelspec": {
      "name": "python3",
      "display_name": "Python 3"
    }
  },
  "cells": [
    {
      "cell_type": "markdown",
      "metadata": {
        "id": "view-in-github",
        "colab_type": "text"
      },
      "source": [
        "<a href=\"https://colab.research.google.com/github/andreatr09/wkl.1310.2021/blob/master/20octubre.ipynb\" target=\"_parent\"><img src=\"https://colab.research.google.com/assets/colab-badge.svg\" alt=\"Open In Colab\"/></a>"
      ]
    },
    {
      "cell_type": "code",
      "metadata": {
        "id": "ozykg5xHt2Wu",
        "outputId": "2151bb49-c131-4983-ae88-fb3243ba0926",
        "colab": {
          "base_uri": "https://localhost:8080/",
          "height": 259
        }
      },
      "source": [
        "archivo  = open ( 'numeros.txt' , 'rt' )\n",
        "for linea in archivo.readlines ():\n",
        "  for trunc in linea.split ( ',' ):\n",
        "    print (int(trunc.strip()))\n"
      ],
      "execution_count": 5,
      "outputs": [
        {
          "output_type": "stream",
          "text": [
            "23\n",
            "23\n",
            "44\n",
            "55\n",
            "5\n",
            "44\n",
            "4\n",
            "5\n",
            "7\n",
            "7\n",
            "6\n",
            "5\n",
            "2\n",
            "1\n"
          ],
          "name": "stdout"
        }
      ]
    },
    {
      "cell_type": "markdown",
      "metadata": {
        "id": "WgMnTuIq2m-d"
      },
      "source": [
        "# SINTAXIS DEL 'for' EN PYTON\n",
        "Dos versiones del for:\n",
        "1. range\n",
        "2. in iterator"
      ]
    },
    {
      "cell_type": "code",
      "metadata": {
        "id": "38ycrpWS25Z9",
        "outputId": "a7a0564b-cce7-41da-92e7-09320dff3a16",
        "colab": {
          "base_uri": "https://localhost:8080/",
          "height": 173
        }
      },
      "source": [
        "r = range (0,10,2)\n",
        "for x in r:\n",
        "  print(x)\n",
        "\n",
        "colores = [ 'rojo' , 'rosa' , 'azul' , 'blanco' ]\n",
        "\n",
        "#for en c/java --> for (indice = 0; indice < 4; indice++)\n",
        "#pyton --> for indice in range (0, len(colores), 1)\n",
        "#indices de lista, modificar el valor interno, elemento\n",
        "for indice in range (0,4,1):\n",
        "  #print ( colores [ indice ] )\n",
        "  colores [ indice] = colores [indice].upper() \n",
        "\n",
        "#for sobre un iteractor\n",
        "#iterable para mostrar el contenido\n",
        "for col in colores:\n",
        "  print(col)\n"
      ],
      "execution_count": 11,
      "outputs": [
        {
          "output_type": "stream",
          "text": [
            "0\n",
            "2\n",
            "4\n",
            "6\n",
            "8\n",
            "ROJO\n",
            "ROSA\n",
            "AZUL\n",
            "BLANCO\n"
          ],
          "name": "stdout"
        }
      ]
    },
    {
      "cell_type": "markdown",
      "metadata": {
        "id": "_zGg4y7C7_SW"
      },
      "source": [
        "# GENERADORES\n",
        "[ valor for x in range () ]\n",
        "\n",
        "generas una lista de numeros, constantes\n",
        "\n",
        "hacer una lista que tenga 10 holas\n",
        "\n",
        "[\"hola\" for x in range (10)]\n",
        "\n",
        "hace un matriz 3x3\n",
        "\n",
        "{ | 0 , 0 , 0 |\n",
        "\n",
        "'   | 0 , 0 , 0 |  \n",
        "\n",
        "'   | 0 , 0 , 0 |  }"
      ]
    },
    {
      "cell_type": "code",
      "metadata": {
        "id": "ZrQv8gAF77vd",
        "outputId": "4ac2bd4b-3916-460a-b1ea-3a148abb38db",
        "colab": {
          "base_uri": "https://localhost:8080/",
          "height": 104
        }
      },
      "source": [
        "lista = [ x for x in range (10) ]\n",
        "print(lista)\n",
        "\n",
        "lista = [ \"HOLA\" for x in range (10) ]\n",
        "print(lista)\n",
        "\n",
        "lista = [ 0 for x in range (10) ]\n",
        "print(lista)\n",
        "\n",
        "lista = [ [0,0,0] for x in range (3) ]\n",
        "print(lista)\n",
        "\n",
        "ren = 5\n",
        "col = 4\n",
        "lista = [ [ 0 for x in range (col) ] for x in range(ren) ]\n",
        "print (lista)"
      ],
      "execution_count": 18,
      "outputs": [
        {
          "output_type": "stream",
          "text": [
            "[0, 1, 2, 3, 4, 5, 6, 7, 8, 9]\n",
            "['HOLA', 'HOLA', 'HOLA', 'HOLA', 'HOLA', 'HOLA', 'HOLA', 'HOLA', 'HOLA', 'HOLA']\n",
            "[0, 0, 0, 0, 0, 0, 0, 0, 0, 0]\n",
            "[[0, 0, 0], [0, 0, 0], [0, 0, 0]]\n",
            "[[0, 0, 0, 0], [0, 0, 0, 0], [0, 0, 0, 0], [0, 0, 0, 0], [0, 0, 0, 0]]\n"
          ],
          "name": "stdout"
        }
      ]
    },
    {
      "cell_type": "markdown",
      "metadata": {
        "id": "IkVvcGYv_FMN"
      },
      "source": [
        "# POO en Pyton\n",
        "- Clase\n",
        "- Creacion de objetos\n",
        "- Constructor\n",
        "- Encapsulamiento\n",
        "- Metodos\n",
        "- Atributos\n",
        "- Herencia , polimorfismo"
      ]
    },
    {
      "cell_type": "code",
      "metadata": {
        "id": "hM35z_H-_X2h",
        "outputId": "28bef864-88f8-408f-a4be-c5cc3148c58b",
        "colab": {
          "base_uri": "https://localhost:8080/",
          "height": 35
        }
      },
      "source": [
        "#cada metodo que se llama se tiene que residir en cada objeto, simula la orientacion a objetos (self)\n",
        "#self  > variable que lo mande , sin el self marcaria error por el diseño de pyton ya que solo lo simula, necesita una referencia\n",
        "class Computadora:\n",
        "  def __init__ ( self  , m , p):  #metodo constructor, doble '_'\n",
        "    self.__marca = m\n",
        "    self.__procesador = p\n",
        "#__ para poner privado  \n",
        "\n",
        "  def to_string ( self ): #estado actual del objeto\n",
        "    return \"Marca: \" + self.__marca +  \"  Procesador: \" + self.__procesador\n",
        "\n",
        "mi_pc = Computadora( \"Toshiba\",  \"Intel i7\" ) #objeto sin atributos , ya ha sido llamado, por lo que mi_pc es un constructor Computadoraa\n",
        "mi_pc.__marca = \"HP\" #Si se pone asi va en contra del encapsulamiento, no se debe modificar los atributos\n",
        "print(mi_pc.to_string())"
      ],
      "execution_count": 26,
      "outputs": [
        {
          "output_type": "stream",
          "text": [
            "Marca: Toshiba  Procesador: Intel i7\n"
          ],
          "name": "stdout"
        }
      ]
    }
  ]
}