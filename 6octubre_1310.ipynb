{
  "nbformat": 4,
  "nbformat_minor": 0,
  "metadata": {
    "colab": {
      "name": "6octubre_1310.ipynb",
      "provenance": [],
      "authorship_tag": "ABX9TyPv0wSeFJFfMgqtKu1v1vQj",
      "include_colab_link": true
    },
    "kernelspec": {
      "name": "python3",
      "display_name": "Python 3"
    }
  },
  "cells": [
    {
      "cell_type": "markdown",
      "metadata": {
        "id": "view-in-github",
        "colab_type": "text"
      },
      "source": [
        "<a href=\"https://colab.research.google.com/github/andreatr09/wkl.1310.2021/blob/master/6octubre_1310.ipynb\" target=\"_parent\"><img src=\"https://colab.research.google.com/assets/colab-badge.svg\" alt=\"Open In Colab\"/></a>"
      ]
    },
    {
      "cell_type": "code",
      "metadata": {
        "id": "-ibnpfkuqWrz",
        "outputId": "2d6367ab-da3a-4013-961f-4fefb9dc589f",
        "colab": {
          "base_uri": "https://localhost:8080/",
          "height": 340
        }
      },
      "source": [
        "#String continuacion\n",
        "\n",
        "numeros_txt = \"   1,  2, 3, 4, 5,    35,   15,   12\"\n",
        "print (numeros_txt)\n",
        "numeros_txt = numeros_txt.lstrip().split(',')\n",
        "print (numeros_txt)\n",
        "\n",
        "for j in range (len (numeros_txt)):\n",
        "  numeros_txt [ j ] = int(numeros_txt[j]. strip())\n",
        "\n",
        "print (numeros_txt)  \n",
        "\n",
        "#funcion range ()\n",
        "#range (inicio, stop, incremento)\n",
        "\n",
        "print (range(1,10,2))\n",
        "rango = range(1,10,2)\n",
        "\n",
        "for x in rango:\n",
        "  print(x)\n",
        "\n",
        "rango = range(10)\n",
        "for x in rango:\n",
        "  print(x)"
      ],
      "execution_count": 8,
      "outputs": [
        {
          "output_type": "stream",
          "text": [
            "   1,  2, 3, 4, 5,    35,   15,   12\n",
            "['1', '  2', ' 3', ' 4', ' 5', '    35', '   15', '   12']\n",
            "[1, 2, 3, 4, 5, 35, 15, 12]\n",
            "range(1, 10, 2)\n",
            "1\n",
            "3\n",
            "5\n",
            "7\n",
            "9\n",
            "0\n",
            "1\n",
            "2\n",
            "3\n",
            "4\n",
            "5\n",
            "6\n",
            "7\n",
            "8\n",
            "9\n"
          ],
          "name": "stdout"
        }
      ]
    },
    {
      "cell_type": "markdown",
      "metadata": {
        "id": "RRzClG06w4dJ"
      },
      "source": [
        "# Listas\n",
        "- mutables\n",
        "- declaran con [  ]\n",
        "- selector [ int ]\n",
        "- pueden ser de cualquier tipo y mezclado\n",
        "\n",
        "# Tuplas\n",
        "- NO mutables\n",
        "- declaran con (  )\n",
        "- selectos [ int ]\n",
        "\n",
        "# Diccionarios\n",
        "- son mutables\n",
        "- son conjunto de pares llave:valor\n",
        "- Equivalentes a los Objetos JSON de JavaScritp\n",
        "\n",
        "# Conjuntos\n",
        "- representacion de la teoria de conjuntos"
      ]
    },
    {
      "cell_type": "code",
      "metadata": {
        "id": "Y4tBhwElyNmM",
        "outputId": "bbb626c5-8a41-40fc-e801-6efd73129829",
        "colab": {
          "base_uri": "https://localhost:8080/",
          "height": 153
        }
      },
      "source": [
        "#listas (Equivalentes a arreglos en otros lenguajes de programacion)\n",
        "frutas = [\"Pera\", \"Manzana\", \"fresa\", \"Mango\", \"Naranja\"]\n",
        "print(frutas)\n",
        "\n",
        "cosas = [\"cuadernos\", 2 , 3.1415 , True , False , [\"Rojo\" , \"Azul\"] ]\n",
        "print(cosas)\n",
        "\n",
        "frutas[2]= \"Fresa\" # frutas [2] = frutas [2].capitalize()\n",
        "print(frutas)\n",
        "\n",
        "#agregar a lista\n",
        "frutas.append(\"Cereza\") #agrega al final\n",
        "print(frutas)\n",
        "frutas.insert(2, \"Sandia\") #agrega antes de la posicion \n",
        "print(frutas)\n",
        "\n",
        "#concatenar lista\n",
        "fecha = [\"06\", \"10\", \"2020\"] # 06/10/20\n",
        "print(fecha)\n",
        "fecha_str = \"/\".join(fecha)\n",
        "print(fecha_str)"
      ],
      "execution_count": 23,
      "outputs": [
        {
          "output_type": "stream",
          "text": [
            "['Pera', 'Manzana', 'fresa', 'Mango', 'Naranja']\n",
            "['cuadernos', 2, 3.1415, True, False, ['Rojo', 'Azul']]\n",
            "['Pera', 'Manzana', 'Fresa', 'Mango', 'Naranja']\n",
            "['Pera', 'Manzana', 'Fresa', 'Mango', 'Naranja', 'Cereza']\n",
            "['Pera', 'Manzana', 'Sandia', 'Fresa', 'Mango', 'Naranja', 'Cereza']\n",
            "['06', '10', '2020']\n",
            "06/10/2020\n",
            "['cuadernos', 2, 3.1415, True, False, ['Rojo', 'Azul']]\n"
          ],
          "name": "stdout"
        }
      ]
    },
    {
      "cell_type": "code",
      "metadata": {
        "id": "FWlU6s7i3Uba",
        "outputId": "75cfea6a-6ec0-46bb-a1e8-2e1962712756",
        "colab": {
          "base_uri": "https://localhost:8080/",
          "height": 187
        }
      },
      "source": [
        "#eliminar elementos\n",
        "cosas = [\"cuadernos\", 2 , 3.1415 , True , False , [\"Rojo\" , \"Azul\"] ]\n",
        "print(cosas)\n",
        "cosas.append(\"Libro\")\n",
        "cosas.append(\"Lapiz\")\n",
        "print(cosas)\n",
        "algo = cosas.pop()\n",
        "print(cosas)\n",
        "print(algo)\n",
        "algo = cosas.pop(2)\n",
        "print(cosas)\n",
        "print(algo)\n",
        "cosas.remove(2)\n",
        "print(cosas)\n",
        "\n",
        "#vaciar una lista\n",
        "cosas.clear() #deberias tener la lista vacia\n",
        "print(cosas)\n",
        "\n",
        "#ordenar la lista\n",
        "print(frutas)\n",
        "frutas.sort() #de acuerdo al diccionario\n",
        "print(frutas)\n"
      ],
      "execution_count": 33,
      "outputs": [
        {
          "output_type": "stream",
          "text": [
            "['cuadernos', 2, 3.1415, True, False, ['Rojo', 'Azul']]\n",
            "['cuadernos', 2, 3.1415, True, False, ['Rojo', 'Azul'], 'Libro', 'Lapiz']\n",
            "['cuadernos', 2, 3.1415, True, False, ['Rojo', 'Azul'], 'Libro']\n",
            "Lapiz\n",
            "['cuadernos', 2, True, False, ['Rojo', 'Azul'], 'Libro']\n",
            "3.1415\n",
            "['cuadernos', True, False, ['Rojo', 'Azul'], 'Libro']\n",
            "[]\n",
            "['Pera', 'Manzana', 'Sandia', 'Fresa', 'Mango', 'Naranja', 'Cereza']\n",
            "['Cereza', 'Fresa', 'Mango', 'Manzana', 'Naranja', 'Pera', 'Sandia']\n"
          ],
          "name": "stdout"
        }
      ]
    },
    {
      "cell_type": "code",
      "metadata": {
        "id": "cUMseRVe7GUw",
        "outputId": "f2b977c1-68d3-40a0-c198-7274b70fb1bc",
        "colab": {
          "base_uri": "https://localhost:8080/",
          "height": 136
        }
      },
      "source": [
        "#slicing\n",
        "\n",
        "cosas = [\"cuadernos\", 2 , 3.1415 , True , False , [\"Rojo\" , \"Azul\"] ]\n",
        "print(cosas[3:5:1])\n",
        "print(cosas)\n",
        "print(cosas[0][3:5:1]) #el primero es string y despues el slicing\n",
        "\n",
        "numeros = [0,1,2,3,4,5,6,7,8,9,10,11,12,13,14,15]\n",
        "print(numeros [8:13])\n",
        "\n",
        "#sustituir rebanadas  -2,-2 -> [0,1,2,3,4,5,6,7,-2,-2,13,14,15]\n",
        "numeros[8:13:] = [-2,-2]\n",
        "print(numeros)\n",
        "\n",
        "#preguntar por una existencia\n",
        "print(-2 in numeros) #preguntar si existe un numero //True\n",
        "print(100 in numeros) # //False"
      ],
      "execution_count": 41,
      "outputs": [
        {
          "output_type": "stream",
          "text": [
            "[True, False]\n",
            "['cuadernos', 2, 3.1415, True, False, ['Rojo', 'Azul']]\n",
            "de\n",
            "[8, 9, 10, 11, 12]\n",
            "[0, 1, 2, 3, 4, 5, 6, 7, -2, -2, 13, 14, 15]\n",
            "True\n",
            "False\n"
          ],
          "name": "stdout"
        }
      ]
    },
    {
      "cell_type": "markdown",
      "metadata": {
        "id": "cYbhKiU6-kVu"
      },
      "source": [
        "# Listas multi-dimension\n",
        "## Listas dentro de listas"
      ]
    },
    {
      "cell_type": "code",
      "metadata": {
        "id": "skiPZHpW-r2h",
        "outputId": "56dfb3e4-00d4-49d4-97bb-012928a6dd1b",
        "colab": {
          "base_uri": "https://localhost:8080/",
          "height": 190
        }
      },
      "source": [
        "computadoras = [\"HP\", \"Mac Book Pro 17\", \"Mate book\", \"Lenovo legion\"]\n",
        "oss = [\"Windows 10\", \"Linux\", \"Android\", \"iOSS\"] #Sistema operativo\n",
        "\n",
        "computo =[computadoras, oss]\n",
        "print(computo[0])\n",
        "print(computo[1])\n",
        "print(computo[0][2])\n",
        "print(computo[0][2][0:5])\n",
        "print(computo[0][3][5: :-1])\n",
        "print(computo[0][3][-8: :-1]) #Es lo mismo , solo que se cuenta con numero negativo de reversa\n",
        "dbms = [ [\"Mysqul\" , \"Open Source\" , False] , [\"MS SQL Server\", \"de paga\" , True] ]#sistema gestor base de datos\n",
        "#Tres niveles\n",
        "computo.append(dbms)\n",
        "print(computo)\n",
        "print(computo[2][0][0])\n",
        "print (computo[2][1][1])"
      ],
      "execution_count": 52,
      "outputs": [
        {
          "output_type": "stream",
          "text": [
            "['HP', 'Mac Book Pro 17', 'Mate book', 'Lenovo legion']\n",
            "['Windows 10', 'Linux', 'Android', 'iOSS']\n",
            "Mate book\n",
            "Mate \n",
            "ovoneL\n",
            "ovoneL\n",
            "[['HP', 'Mac Book Pro 17', 'Mate book', 'Lenovo legion'], ['Windows 10', 'Linux', 'Android', 'iOSS'], [['Mysqul', 'Open Source', False], ['MS SQL Server', 'de paga', True]]]\n",
            "Mysqul\n",
            "de paga\n"
          ],
          "name": "stdout"
        }
      ]
    }
  ]
}