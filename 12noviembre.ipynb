{
  "nbformat": 4,
  "nbformat_minor": 0,
  "metadata": {
    "colab": {
      "name": "12noviembre.ipynb",
      "provenance": [],
      "collapsed_sections": [],
      "authorship_tag": "ABX9TyOD9y8RRvVypaD/z+wQMWcm",
      "include_colab_link": true
    },
    "kernelspec": {
      "name": "python3",
      "display_name": "Python 3"
    }
  },
  "cells": [
    {
      "cell_type": "markdown",
      "metadata": {
        "id": "view-in-github",
        "colab_type": "text"
      },
      "source": [
        "<a href=\"https://colab.research.google.com/github/andreatr09/wkl.1310.2021/blob/master/12noviembre.ipynb\" target=\"_parent\"><img src=\"https://colab.research.google.com/assets/colab-badge.svg\" alt=\"Open In Colab\"/></a>"
      ]
    },
    {
      "cell_type": "code",
      "metadata": {
        "id": "oWAbj-ICcRQM",
        "outputId": "bb6f108f-9c20-4b2e-80a5-e6e268e84aba",
        "colab": {
          "base_uri": "https://localhost:8080/"
        }
      },
      "source": [
        "class Nodo:\n",
        "  def __init__( self , dato ):\n",
        "    self.dato = dato\n",
        "    self.siguiente = None\n",
        "\n",
        "# Ejemplo 1\n",
        "a = Nodo ( 5 )\n",
        "print( a.dato )\n",
        "print( a.siguiente )\n",
        "\n",
        "# Empiezan a agregarse elementos \n",
        "\n",
        "# Ejemplo 2\n",
        "a.siguiente = Nodo ( 9 )\n",
        "\n",
        "# Ejemplo 3\n",
        "a.siguiente.siguiente = Nodo ( 16 )\n",
        "\n",
        "# Ejemplo 4\n",
        "a.siguiente.siguiente.siguiente = Nodo ( 20 )\n",
        "\n",
        "# Ejemplo 5\n",
        "a.siguiente.siguiente.siguiente.siguiente=Nodo( 35 )\n",
        "\n",
        "# Ejemplo 6 nodo 16\n",
        "a.siguiente.siguiente=a.siguiente.siguiente.siguiente\n",
        "\n",
        "# Ejemplo 7   Borrar todo menos el primero\n",
        "a.siguiente.siguiente\n",
        "a.dato = 45\n",
        "\n",
        "\n",
        "# Ejemplo 8 Insertar un dato entre dos\n",
        "tmp= a.siguiente.siguiente.siguiente # Respalda  nodo, para que no se pierda\n",
        "a.siguiente.siguiente.siguiente=Nodo( 28 ) # crea mi nuevo nodo\n",
        "a.siguiente.siguiente.siguiente.siguiente= tmp # agrega  nodo \n",
        "\n",
        "# Recorrido transversal\n",
        "curr_node = a\n",
        "print( curr_node.dato,\"--> \", end=\"\" )\n",
        "while( curr_node.siguiente != None ):\n",
        "  curr_node = curr_node.siguiente\n",
        "  print(curr_node.dato,\"--> \", end=\"\")\n",
        "print(\"\")"
      ],
      "execution_count": 22,
      "outputs": [
        {
          "output_type": "stream",
          "text": [
            "5\n",
            "None\n",
            "45 --> 9 --> 20 --> 28 --> 35 --> \n"
          ],
          "name": "stdout"
        }
      ]
    },
    {
      "cell_type": "code",
      "metadata": {
        "id": "U67_QWl9wE0P",
        "outputId": "22b9df4a-1983-4cc0-8301-9d79bc9dfa9f",
        "colab": {
          "base_uri": "https://localhost:8080/"
        }
      },
      "source": [
        "class Nodo:\n",
        "    def __init__( self , dato  , sig=None ):\n",
        "        self.dato = dato\n",
        "        self.siguiente = sig\n",
        "\n",
        "# ejemplo 1\n",
        "a = Nodo( 10 )\n",
        "\n",
        "# ejemplo 2   RECONSTRUCCION\n",
        "a = Nodo(10 , Nodo(20) )\n",
        "\n",
        "a = Nodo(10 , Nodo(20, Nodo(30)) )\n",
        "\n",
        "a = Nodo(10 , Nodo(20, Nodo(30,Nodo(40,Nodo(50)))) )\n",
        "\n",
        "curr_node = a\n",
        "print(curr_node.dato , \"-->\" , end=\"\")\n",
        "while( curr_node.siguiente != None ):\n",
        "    curr_node = curr_node.siguiente\n",
        "    print(curr_node.dato, \"-->\" , end=\"\")\n",
        "print(\"\")"
      ],
      "execution_count": 23,
      "outputs": [
        {
          "output_type": "stream",
          "text": [
            "10 -->20 -->30 -->40 -->50 -->\n"
          ],
          "name": "stdout"
        }
      ]
    }
  ]
}