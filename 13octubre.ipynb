{
  "nbformat": 4,
  "nbformat_minor": 0,
  "metadata": {
    "colab": {
      "name": "13octubre.ipynb",
      "provenance": [],
      "authorship_tag": "ABX9TyO122TBgDOj51uRw3Mw7AE/",
      "include_colab_link": true
    },
    "kernelspec": {
      "name": "python3",
      "display_name": "Python 3"
    }
  },
  "cells": [
    {
      "cell_type": "markdown",
      "metadata": {
        "id": "view-in-github",
        "colab_type": "text"
      },
      "source": [
        "<a href=\"https://colab.research.google.com/github/andreatr09/wkl.1310.2021/blob/master/13octubre.ipynb\" target=\"_parent\"><img src=\"https://colab.research.google.com/assets/colab-badge.svg\" alt=\"Open In Colab\"/></a>"
      ]
    },
    {
      "cell_type": "code",
      "metadata": {
        "id": "6t-_tYXtrWA8",
        "outputId": "d2f1cb15-cc66-4e48-b056-5130dac6105c",
        "colab": {
          "base_uri": "https://localhost:8080/",
          "height": 105
        }
      },
      "source": [
        "alumno = { \n",
        "          \"num_cta\" : 303030303 ,\n",
        "          \"carrera\" : \"ICO\",\n",
        "          \"promedio\" : 9.8,\n",
        "          \"materias\" : [\"EDD\",\"CyP\",\"Calidad\",\"Emprendimiento\"],\n",
        "          \"direccion\" : { \n",
        "                            \"calle\":\"rancho seco\",\n",
        "                            \"numero\" : 23 ,\n",
        "                            \"delegacion\" : \"Neza\",\n",
        "                            \"estado\" : {\n",
        "                                        \"id\" : 15 ,\n",
        "                                        \"nombre\" : \"Estado de Máxico\" ,\n",
        "                                        \"nombre_corto\" : \"EdoMex\"\n",
        "                                        } ,\n",
        "                            \"CP\":57170\n",
        "\n",
        "                        } \n",
        "          }\n",
        "print(alumno)\n",
        "alumno['carrera'] = \" Ingenieria en Computacion\"\n",
        "print(alumno)\n",
        "alumno ['nombre_completo']= {'primer':\"Luna\",\n",
        "                             'segundo':\"Andrea\",\n",
        "                            \"materno\": \"Tierrablanca\",\n",
        "                             \"paterno\": \"Retiguin\",\n",
        "                            \n",
        "                            }\n",
        "alumno['semestre']=3\n",
        "print(alumno)\n",
        "print(f\"{alumno['nombre_completo']['primer']} {alumno['nombre_completo']['segundo']}\")"
      ],
      "execution_count": 39,
      "outputs": [
        {
          "output_type": "stream",
          "text": [
            "{'num_cta': 303030303, 'carrera': 'ICO', 'promedio': 9.8, 'materias': ['EDD', 'CyP', 'Calidad', 'Emprendimiento'], 'direccion': {'calle': 'rancho seco', 'numero': 23, 'delegacion': 'Neza', 'estado': {'id': 15, 'nombre': 'Estado de Máxico', 'nombre_corto': 'EdoMex'}, 'CP': 57170}}\n",
            "{'num_cta': 303030303, 'carrera': ' Ingenieria en Computacion', 'promedio': 9.8, 'materias': ['EDD', 'CyP', 'Calidad', 'Emprendimiento'], 'direccion': {'calle': 'rancho seco', 'numero': 23, 'delegacion': 'Neza', 'estado': {'id': 15, 'nombre': 'Estado de Máxico', 'nombre_corto': 'EdoMex'}, 'CP': 57170}}\n",
            "{'num_cta': 303030303, 'carrera': ' Ingenieria en Computacion', 'promedio': 9.8, 'materias': ['EDD', 'CyP', 'Calidad', 'Emprendimiento'], 'direccion': {'calle': 'rancho seco', 'numero': 23, 'delegacion': 'Neza', 'estado': {'id': 15, 'nombre': 'Estado de Máxico', 'nombre_corto': 'EdoMex'}, 'CP': 57170}, 'nombre_completo': {'primer': 'Luna', 'segundo': 'Andrea', 'materno': 'Tierrablanca', 'paterno': 'Retiguin'}, 'semestre': 3}\n",
            "Luna Andrea\n"
          ],
          "name": "stdout"
        }
      ]
    },
    {
      "cell_type": "code",
      "metadata": {
        "id": "djZFI0XlyZFz",
        "outputId": "ed2b0193-7686-49fd-c101-4c557e8aba19",
        "colab": {
          "base_uri": "https://localhost:8080/",
          "height": 326
        }
      },
      "source": [
        "#key () ,    values()   y   items ()\n",
        "\n",
        "llaves = alumno.keys()\n",
        "print(llaves)\n",
        "for llave in llaves:\n",
        "          print(llave.upper())\n",
        "\n",
        "\n",
        "valores = alumno.values()\n",
        "for val in valores:\n",
        "          print(val)\n",
        "\n",
        "pares = alumno.items()\n",
        "print(pares)\n",
        "for elem in pares:\n",
        "      print(f\"el campo { elem[0] } tiene el valor { elem [1] } \")\n"
      ],
      "execution_count": 9,
      "outputs": [
        {
          "output_type": "stream",
          "text": [
            "dict_keys(['num_cta', 'carrera', 'promedio', 'materias', 'direccion'])\n",
            "NUM_CTA\n",
            "CARRERA\n",
            "PROMEDIO\n",
            "MATERIAS\n",
            "DIRECCION\n",
            "303030303\n",
            "Ingenieria en Computacion\n",
            "9.8\n",
            "['EDD', 'CyP', 'Calidad', 'Emprendimiento']\n",
            "{'calle': 'rancho seco', 'numero': 23, 'delegacion': 'Neza', 'estado': {'id': 15, 'nombre': 'Estado de Máxico', 'nombre_corto': 'EdoMex'}, 'CP': 57170}\n",
            "dict_items([('num_cta', 303030303), ('carrera', 'Ingenieria en Computacion'), ('promedio', 9.8), ('materias', ['EDD', 'CyP', 'Calidad', 'Emprendimiento']), ('direccion', {'calle': 'rancho seco', 'numero': 23, 'delegacion': 'Neza', 'estado': {'id': 15, 'nombre': 'Estado de Máxico', 'nombre_corto': 'EdoMex'}, 'CP': 57170})])\n",
            "el campo num_cta tiene el valor 303030303 \n",
            "el campo carrera tiene el valor Ingenieria en Computacion \n",
            "el campo promedio tiene el valor 9.8 \n",
            "el campo materias tiene el valor ['EDD', 'CyP', 'Calidad', 'Emprendimiento'] \n",
            "el campo direccion tiene el valor {'calle': 'rancho seco', 'numero': 23, 'delegacion': 'Neza', 'estado': {'id': 15, 'nombre': 'Estado de Máxico', 'nombre_corto': 'EdoMex'}, 'CP': 57170} \n"
          ],
          "name": "stdout"
        }
      ]
    },
    {
      "cell_type": "code",
      "metadata": {
        "id": "kruoS8YD09Do",
        "outputId": "2433f701-0be7-400d-ab25-eba464b6b1f6",
        "colab": {
          "base_uri": "https://localhost:8080/",
          "height": 34
        }
      },
      "source": [
        "#Concatenar diccionarios\n",
        "computadora = { \"procesador\" : \"Intel 17\", \"RAM\" : \"Kingston 12 GB\" }\n",
        "otros =  {\"monitor\" : \"LG 49\\\"\"  ,  \"hd\" : \"Toshiba 17B\" }\n",
        "computadora.update(otros)\n",
        "print(computadora)"
      ],
      "execution_count": 10,
      "outputs": [
        {
          "output_type": "stream",
          "text": [
            "{'procesador': 'Intel 17', 'RAM': 'Kingston 12 GB', 'monitor': 'LG 49\"', 'hd': 'Toshiba 17B'}\n"
          ],
          "name": "stdout"
        }
      ]
    },
    {
      "cell_type": "markdown",
      "metadata": {
        "id": "oQ3yEMsg2vQ0"
      },
      "source": [
        "# Funciones\n",
        "\n",
        "- Unidades de código reutilizable\n",
        "- Es un mecanismo de organizacion de codigo\n",
        "- Una funcion toma de 0 a n parametros\n",
        "- Tiene una sola salida (return) de cualquier tipo de dato\n",
        "- Solo puedes hacer dos cosas:\n",
        "  - definirla\n",
        "  - llamarla\n",
        "- Se definen con la palabra reservada \"def\""
      ]
    },
    {
      "cell_type": "code",
      "metadata": {
        "id": "Onzoei0e3yIX",
        "outputId": "6ef6cddf-4e9b-4f14-a393-cd7c25962e61",
        "colab": {
          "base_uri": "https://localhost:8080/",
          "height": 187
        }
      },
      "source": [
        "def sumar(x,y):\n",
        "  resultado = x + y\n",
        "  return resultado\n",
        "\n",
        "def saludar( nombre ):\n",
        "  print(f\"Hola {nombre}, Como estas?\")\n",
        "  return None\n",
        "\n",
        "print(sumar(10,5))\n",
        "print(sumar(2,6))\n",
        "saludar('Jesus')\n",
        "print(saludar(\"jose\"))\n",
        "\n",
        "# Procesar None\n",
        "\n",
        "\n",
        "def multiplicar(valor , veces):\n",
        "  if valor != None:\n",
        "    c= valor * veces\n",
        "  else:\n",
        "    c= \"Operacion no valida\"\n",
        "  return c\n",
        "\n",
        "def operacion(a , b , c):\n",
        "  res = a + (b / c)\n",
        "  return res\n",
        "\n",
        "\n",
        "print(multiplicar(5,6))\n",
        "print(multiplicar(None,6))\n",
        "print(operacion(2,9,3))\n",
        "print(operacion(2,3,9))\n",
        "\n",
        "print(operacion(a=2,c=3,b=9))"
      ],
      "execution_count": 40,
      "outputs": [
        {
          "output_type": "stream",
          "text": [
            "15\n",
            "8\n",
            "Hola Jesus, Como estas?\n",
            "Hola jose, Como estas?\n",
            "None\n",
            "30\n",
            "Operacion no valida\n",
            "5.0\n",
            "2.3333333333333335\n",
            "5.0\n"
          ],
          "name": "stdout"
        }
      ]
    },
    {
      "cell_type": "code",
      "metadata": {
        "id": "rlAJLS_F-jKU",
        "outputId": "6704095f-4543-4ff1-d0b5-fa33a0d0d952",
        "colab": {
          "base_uri": "https://localhost:8080/",
          "height": 292
        }
      },
      "source": [
        "#Valores por defecto\n",
        "def comanda( primer, fuerte , postre=\"Galleta de animalito\"):\n",
        "  print(f\"De entrada pidio: {primer}\")\n",
        "  print(f\"De plato fuerte:{fuerte}\")\n",
        "  print(f\"Postre:{postre}\")\n",
        "\n",
        "\n",
        "#Argumentos posicionales con tuplas\n",
        "\n",
        "def comanda_2( *opciones):\n",
        "  print(opciones)\n",
        "  print(f\"De entrada pidio: {opciones[0]}\")\n",
        "  print(f\"De plato fuerte:{opciones[1]}\")\n",
        "  print(f\"Postre:{opciones[2]}\")\n",
        "  print(\"\\nIndicaciones extra:\")\n",
        "\n",
        "  for ind in opciones[3::]:\n",
        "    print(f\"\\t {ind}\")\n",
        "\n",
        "\n",
        "\n",
        "\n",
        "\n",
        "comanda(\"sopa aguada\",\"Tortas de papa\", \"Gelatina de limon\")\n",
        "comanda(\"sopa aguada\",\"Tortas de papa\")\n",
        "comanda_2(\"sopa aguada\",\"Tortas de papa\", \"Gelatina de limon\",\n",
        "          \"las tortas bien doradas\", \"traer dos limones\",\"Agua con hielo\")"
      ],
      "execution_count": 41,
      "outputs": [
        {
          "output_type": "stream",
          "text": [
            "De entrada pidio: sopa aguada\n",
            "De plato fuerte:Tortas de papa\n",
            "Postre:Gelatina de limon\n",
            "De entrada pidio: sopa aguada\n",
            "De plato fuerte:Tortas de papa\n",
            "Postre:Galleta de animalito\n",
            "('sopa aguada', 'Tortas de papa', 'Gelatina de limon', 'las tortas bien doradas', 'traer dos limones', 'Agua con hielo')\n",
            "De entrada pidio: sopa aguada\n",
            "De plato fuerte:Tortas de papa\n",
            "Postre:Gelatina de limon\n",
            "\n",
            "Indicaciones extra:\n",
            "\t las tortas bien doradas\n",
            "\t traer dos limones\n",
            "\t Agua con hielo\n"
          ],
          "name": "stdout"
        }
      ]
    },
    {
      "cell_type": "code",
      "metadata": {
        "id": "tDmuvvMcB5O0",
        "outputId": "dbfab2da-fa80-4ddb-96d5-b44bf652d403",
        "colab": {
          "base_uri": "https://localhost:8080/",
          "height": 156
        }
      },
      "source": [
        "# ARGUMENTOS POSICIONALES CON DICCIONARIOS **\n",
        "def comanda_tres ( **opciones ):\n",
        "  print(opciones)\n",
        "  for op in opciones.items():\n",
        "    print(f\"{op[0]} => {op[1]}\")\n",
        "\n",
        "comanda_tres (primer=\"sopa aguada\", fuerte=\" tortas de papa\",  postre=\"gelatina de limon\" , \n",
        "             extra1=\"las tortas bien doradas\", extra2=\"traer dos limones\", extra3=\"agua con hielo\")"
      ],
      "execution_count": 34,
      "outputs": [
        {
          "output_type": "stream",
          "text": [
            "{'primer': 'sopa aguada', 'fuerte': ' tortas de papa', 'postre': 'gelatina de limon', 'extra1': 'las tortas bien doradas', 'extra2': 'traer dos limones', 'extra3': 'agua con hielo'}\n",
            "primer => sopa aguada\n",
            "fuerte =>  tortas de papa\n",
            "postre => gelatina de limon\n",
            "extra1 => las tortas bien doradas\n",
            "extra2 => traer dos limones\n",
            "extra3 => agua con hielo\n"
          ],
          "name": "stdout"
        }
      ]
    }
  ]
}